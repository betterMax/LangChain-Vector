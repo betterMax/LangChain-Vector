{
 "cells": [
  {
   "cell_type": "code",
   "execution_count": 1,
   "id": "5cb5acca-9f6e-4254-9e7c-88b5bd430e59",
   "metadata": {},
   "outputs": [],
   "source": [
    "import os\n",
    "import openai\n",
    "import sys\n",
    "from dotenv import load_dotenv, find_dotenv, set_key"
   ]
  },
  {
   "cell_type": "code",
   "execution_count": 2,
   "id": "bf91498d-fa60-4587-8a49-8cfec77ad952",
   "metadata": {},
   "outputs": [],
   "source": [
    "# 当前windows\n",
    "# 获取当前的 Conda 环境路径\n",
    "conda_env_path = os.environ.get('CONDA_PREFIX')\n",
    "\n",
    "# \".env\" 文件的绝对路径\n",
    "dotenv_path = os.path.join(conda_env_path, '.env')\n",
    "\n",
    "# 加载 \".env\" 文件\n",
    "_ = load_dotenv(dotenv_path, verbose=True)\n",
    "openai.api_key = os.environ['OPENAI_API_KEY']"
   ]
  },
  {
   "cell_type": "markdown",
   "id": "a0c166c4-c407-4f8a-8696-07805c951459",
   "metadata": {},
   "source": [
    "# LangChain's Tool Utilization: Examining Diverse Applications through Illustrative Scenarios"
   ]
  },
  {
   "cell_type": "markdown",
   "id": "f0de15f7-67a8-4924-a4e2-85e3238074f1",
   "metadata": {},
   "source": [
    "A few notable examples of tools in LangChain, without getting into technical details, are:\n",
    "\n",
    "- Google Search: This tool uses the Google Search API to fetch relevant information from the web, which can be used to answer queries related to current events, facts, or any topic where a quick search can provide accurate results.\n",
    "- Requests: This tool employs the popular Python library \"requests\" to interact with web services, access APIs, or obtain data from different online sources. It can be particularly useful for gathering structured data or specific information from a web service.\n",
    "- Python REPL: The Python REPL (Read-Eval-Print Loop) tool allows users to execute Python code on-the-fly to perform calculations, manipulate data, or test algorithms. It serves as an interactive programming environment within the LangChain system.\n",
    "- Wikipedia: The Wikipedia tool leverages the Wikipedia API to search and retrieve relevant articles, summaries, or specific information from the vast repository of knowledge on the Wikipedia platform.\n",
    "- Wolfram Alpha: With this tool, users can tap into the powerful computational knowledge engine of Wolfram Alpha to answer complex questions, perform advanced calculations, or generate visual representations of data."
   ]
  },
  {
   "cell_type": "markdown",
   "id": "246fce54-d9be-45dd-a7a4-fb11d0132b14",
   "metadata": {},
   "source": [
    "## LangChain Agents and Toolkits"
   ]
  },
  {
   "cell_type": "code",
   "execution_count": 3,
   "id": "72468ed8-1725-4a2e-9a10-d980bfba82f9",
   "metadata": {},
   "outputs": [
    {
     "name": "stderr",
     "output_type": "stream",
     "text": [
      "E:\\ProgramFiles\\Anaconda\\envs\\C_LCVD\\lib\\site-packages\\deeplake\\util\\check_latest_version.py:32: UserWarning: A newer version of deeplake (3.6.26) is available. It's recommended that you update to the latest version using `pip install -U deeplake`.\n",
      "  warnings.warn(\n"
     ]
    },
    {
     "ename": "NameError",
     "evalue": "name 'SERPAPI_API_KEY' is not defined",
     "output_type": "error",
     "traceback": [
      "\u001b[1;31m---------------------------------------------------------------------------\u001b[0m",
      "\u001b[1;31mNameError\u001b[0m                                 Traceback (most recent call last)",
      "Cell \u001b[1;32mIn[3], line 7\u001b[0m\n\u001b[0;32m      4\u001b[0m \u001b[38;5;28;01mfrom\u001b[39;00m \u001b[38;5;21;01mlangchain\u001b[39;00m \u001b[38;5;28;01mimport\u001b[39;00m OpenAI\n\u001b[0;32m      6\u001b[0m llm \u001b[38;5;241m=\u001b[39m OpenAI(model_name\u001b[38;5;241m=\u001b[39m\u001b[38;5;124m\"\u001b[39m\u001b[38;5;124mtext-davinci-003\u001b[39m\u001b[38;5;124m\"\u001b[39m, temperature\u001b[38;5;241m=\u001b[39m\u001b[38;5;241m0\u001b[39m)\n\u001b[1;32m----> 7\u001b[0m tools \u001b[38;5;241m=\u001b[39m load_tools([\u001b[38;5;124m'\u001b[39m\u001b[38;5;124mserpapi\u001b[39m\u001b[38;5;124m'\u001b[39m, \u001b[38;5;124m'\u001b[39m\u001b[38;5;124mrequests_all\u001b[39m\u001b[38;5;124m'\u001b[39m], llm\u001b[38;5;241m=\u001b[39mllm, serpapi_api_key\u001b[38;5;241m=\u001b[39m\u001b[43mSERPAPI_API_KEY\u001b[49m)\n\u001b[0;32m      8\u001b[0m agent \u001b[38;5;241m=\u001b[39m initialize_agent(tools, llm, agent\u001b[38;5;241m=\u001b[39mAgentType\u001b[38;5;241m.\u001b[39mZERO_SHOT_REACT_DESCRIPTION, verbose\u001b[38;5;241m=\u001b[39m\u001b[38;5;28;01mTrue\u001b[39;00m)\n",
      "\u001b[1;31mNameError\u001b[0m: name 'SERPAPI_API_KEY' is not defined"
     ]
    }
   ],
   "source": [
    "from langchain.agents import load_tools\n",
    "from langchain.agents import initialize_agent\n",
    "from langchain.agents import AgentType\n",
    "from langchain import OpenAI\n",
    "\n",
    "llm = OpenAI(model_name=\"text-davinci-003\", temperature=0)\n",
    "tools = load_tools(['serpapi', 'requests_all'], llm=llm, serpapi_api_key=SERPAPI_API_KEY)\n",
    "agent = initialize_agent(tools, llm, agent=AgentType.ZERO_SHOT_REACT_DESCRIPTION, verbose=True)"
   ]
  },
  {
   "cell_type": "code",
   "execution_count": null,
   "id": "f2960252-8c9c-4045-937e-a0e4dff004d4",
   "metadata": {},
   "outputs": [],
   "source": []
  },
  {
   "cell_type": "code",
   "execution_count": null,
   "id": "c958a86a-b945-4716-9bdf-196932d3a66c",
   "metadata": {},
   "outputs": [],
   "source": []
  },
  {
   "cell_type": "code",
   "execution_count": null,
   "id": "ae2c8cb8-cd40-487f-ad1a-3b7a5b3940db",
   "metadata": {},
   "outputs": [],
   "source": []
  },
  {
   "cell_type": "code",
   "execution_count": null,
   "id": "e068582d-8e08-4a7f-89cc-57ff32e7ca45",
   "metadata": {},
   "outputs": [],
   "source": []
  },
  {
   "cell_type": "code",
   "execution_count": null,
   "id": "ad4105f9-c1f3-4cb6-b966-52194e480850",
   "metadata": {},
   "outputs": [],
   "source": []
  },
  {
   "cell_type": "code",
   "execution_count": null,
   "id": "15cae306-858f-4cba-ad7d-3a242d69db5a",
   "metadata": {},
   "outputs": [],
   "source": []
  },
  {
   "cell_type": "markdown",
   "id": "29d7b873-0c6b-4d79-9ea6-2c9842e0de0b",
   "metadata": {},
   "source": [
    "# Supercharge Your Blog Posts Automatically with LangChain and Google Search"
   ]
  },
  {
   "cell_type": "code",
   "execution_count": null,
   "id": "b9b4fe9c-10dc-46d2-ba18-86ca728906cd",
   "metadata": {},
   "outputs": [],
   "source": []
  },
  {
   "cell_type": "code",
   "execution_count": null,
   "id": "198b86ac-13bd-4e1a-92f4-24122fadac43",
   "metadata": {},
   "outputs": [],
   "source": []
  },
  {
   "cell_type": "markdown",
   "id": "af02c871-9892-4f2f-9ef6-56f02844f7cc",
   "metadata": {},
   "source": [
    "# Recreating the Bing Chatbot"
   ]
  },
  {
   "cell_type": "code",
   "execution_count": null,
   "id": "6681bcc2-7b69-421a-9fae-b68eab7c9e2a",
   "metadata": {},
   "outputs": [],
   "source": []
  },
  {
   "cell_type": "code",
   "execution_count": null,
   "id": "2f940c28-65b9-432b-8aef-97b996bbcc86",
   "metadata": {},
   "outputs": [],
   "source": []
  },
  {
   "cell_type": "markdown",
   "id": "5a664d88-d349-4f2c-ae1c-95b087765840",
   "metadata": {},
   "source": [
    "# Integrating Multiple Tools for Web-Based Question-Answering"
   ]
  },
  {
   "cell_type": "code",
   "execution_count": null,
   "id": "50475816-055d-4ded-9a5b-6bdbd9e8ac80",
   "metadata": {},
   "outputs": [],
   "source": []
  },
  {
   "cell_type": "code",
   "execution_count": null,
   "id": "af01fa8f-19ad-48b5-b007-3cab6d3ea003",
   "metadata": {},
   "outputs": [],
   "source": []
  },
  {
   "cell_type": "markdown",
   "id": "19be6866-b379-46ef-a56d-81469c6871dc",
   "metadata": {},
   "source": [
    "# Building a Custom Document Retrieval Tool with Deep Lake and Langchain: A Step-by-Step Workflow"
   ]
  },
  {
   "cell_type": "code",
   "execution_count": null,
   "id": "a47a63b0-4801-44ac-8e49-f821f1e2a558",
   "metadata": {},
   "outputs": [],
   "source": []
  },
  {
   "cell_type": "code",
   "execution_count": null,
   "id": "888c2e51-4908-4d70-a4a8-17f9b6326a6c",
   "metadata": {},
   "outputs": [],
   "source": []
  },
  {
   "cell_type": "code",
   "execution_count": null,
   "id": "dcb83090-e98c-4a02-bf8c-3375d64441aa",
   "metadata": {},
   "outputs": [],
   "source": []
  },
  {
   "cell_type": "code",
   "execution_count": null,
   "id": "a5805e1e-9a16-476e-bdc0-b0df878fcf42",
   "metadata": {},
   "outputs": [],
   "source": []
  },
  {
   "cell_type": "code",
   "execution_count": null,
   "id": "1f631964-85fb-497e-8e5c-9b5e60697a17",
   "metadata": {},
   "outputs": [],
   "source": []
  },
  {
   "cell_type": "code",
   "execution_count": null,
   "id": "2fd3adaa-4447-40c6-8731-0c0e0916dfaa",
   "metadata": {},
   "outputs": [],
   "source": []
  },
  {
   "cell_type": "code",
   "execution_count": null,
   "id": "4fc06ac0-bbe1-4852-9368-2ca8ea3922aa",
   "metadata": {},
   "outputs": [],
   "source": []
  },
  {
   "cell_type": "code",
   "execution_count": null,
   "id": "c083be9d-3fa6-4029-83ba-30f540380b89",
   "metadata": {},
   "outputs": [],
   "source": []
  },
  {
   "cell_type": "code",
   "execution_count": null,
   "id": "c362179b-f3d9-4dfd-a5b6-c8ba78aac60c",
   "metadata": {},
   "outputs": [],
   "source": []
  }
 ],
 "metadata": {
  "kernelspec": {
   "display_name": "Python 3 (ipykernel)",
   "language": "python",
   "name": "python3"
  },
  "language_info": {
   "codemirror_mode": {
    "name": "ipython",
    "version": 3
   },
   "file_extension": ".py",
   "mimetype": "text/x-python",
   "name": "python",
   "nbconvert_exporter": "python",
   "pygments_lexer": "ipython3",
   "version": "3.9.17"
  }
 },
 "nbformat": 4,
 "nbformat_minor": 5
}
